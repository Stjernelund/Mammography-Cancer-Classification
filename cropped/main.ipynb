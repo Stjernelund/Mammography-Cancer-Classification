{
 "cells": [
  {
   "cell_type": "markdown",
   "metadata": {},
   "source": [
    "# Cropped ROI Model"
   ]
  },
  {
   "cell_type": "markdown",
   "metadata": {},
   "source": [
    "### Imports"
   ]
  },
  {
   "cell_type": "code",
   "execution_count": null,
   "metadata": {},
   "outputs": [],
   "source": [
    "import os\n",
    "\n",
    "import cv2 as cv\n",
    "import matplotlib.pyplot as plt\n",
    "import numpy as np\n",
    "import pandas as pd\n",
    "import splitfolders\n",
    "import plotly.graph_objects as go\n",
    "import seaborn as sns\n",
    "from sklearn.metrics import confusion_matrix\n",
    "from cropped_sort_images import sort_images_cropped\n",
    "from tensorflow.keras import Sequential, layers\n",
    "from tensorflow.keras.applications.resnet import ResNet50\n",
    "from tensorflow.keras.callbacks import EarlyStopping, ModelCheckpoint\n",
    "from tensorflow.keras.optimizers import Adam\n",
    "from tensorflow.keras.preprocessing.image import ImageDataGenerator\n",
    "from tensorflow.keras.regularizers import L2\n",
    "from plotly.subplots import make_subplots\n"
   ]
  },
  {
   "cell_type": "markdown",
   "metadata": {},
   "source": [
    "###  Preprocessing\n",
    "\n",
    "After data is downloaded from Kaggle. Set the appropriate paths to the data."
   ]
  },
  {
   "cell_type": "code",
   "execution_count": null,
   "metadata": {},
   "outputs": [],
   "source": [
    "df = pd.read_csv(\"../data/csv/meta.csv\")"
   ]
  },
  {
   "cell_type": "code",
   "execution_count": null,
   "metadata": {},
   "outputs": [],
   "source": [
    "IMAGE_PATH = '../data/jpeg'\n",
    "CSV_PATH = '../data/csv'\n",
    "TRAIN_IMAGE_PATH = '../data/train'\n",
    "TEST_IMAGE_PATH = '../data/test'\n",
    "DATA_SPLIT_PATH = '../data_split'\n",
    "\n",
    "sort_images_cropped(IMAGE_PATH, CSV_PATH, TRAIN_IMAGE_PATH, TEST_IMAGE_PATH)\n",
    "\n",
    "# split the train data into train and validation in a new folder\n",
    "splitfolders.ratio(TRAIN_IMAGE_PATH, output=\"../data_split\", seed=1337, ratio=(.8, .2))"
   ]
  },
  {
   "cell_type": "code",
   "execution_count": null,
   "metadata": {},
   "outputs": [],
   "source": [
    "IMG_SIZE = 256"
   ]
  },
  {
   "cell_type": "code",
   "execution_count": null,
   "metadata": {},
   "outputs": [],
   "source": [
    "# Loads training data\n",
    "train_datagen = ImageDataGenerator(\n",
    "    rescale=1/255,  # rescale the tensor values to [0,1]\n",
    "    rotation_range=10,\n",
    "    width_shift_range=0.1,\n",
    "    height_shift_range=0.1,\n",
    "    shear_range=0.2,\n",
    "    horizontal_flip=True,\n",
    "    fill_mode='nearest'\n",
    ")\n",
    "train_generator = train_datagen.flow_from_directory(\n",
    "    directory=f'{DATA_SPLIT_PATH}/train',\n",
    "    target_size=(IMG_SIZE, IMG_SIZE),\n",
    "    color_mode=\"rgb\",\n",
    "    class_mode=\"binary\",\n",
    "    batch_size=32,\n",
    "    shuffle=True,\n",
    ")"
   ]
  },
  {
   "cell_type": "code",
   "execution_count": null,
   "metadata": {},
   "outputs": [],
   "source": [
    "train_generator.class_indices"
   ]
  },
  {
   "cell_type": "code",
   "execution_count": null,
   "metadata": {},
   "outputs": [],
   "source": [
    "# Load validation data\n",
    "val_datagen = ImageDataGenerator(\n",
    "    rescale=1/255  # rescale the tensor values to [0,1]\n",
    ")\n",
    "val_generator = val_datagen.flow_from_directory(\n",
    "    directory=f'{DATA_SPLIT_PATH}/val',\n",
    "    target_size=(IMG_SIZE, IMG_SIZE),\n",
    "    color_mode=\"rgb\",\n",
    "    class_mode=\"binary\",\n",
    "    batch_size=32,\n",
    "    shuffle=True\n",
    ")"
   ]
  },
  {
   "cell_type": "code",
   "execution_count": null,
   "metadata": {},
   "outputs": [],
   "source": [
    "test_datagen = ImageDataGenerator(\n",
    "    rescale=1/255  # rescale the tensor values to [0,1]\n",
    ")\n",
    "test_generator = test_datagen.flow_from_directory(\n",
    "    directory=f'{TEST_IMAGE_PATH}',\n",
    "    classes=['BENIGN', 'MALIGNANT'],\n",
    "    target_size=(IMG_SIZE, IMG_SIZE),\n",
    "    color_mode=\"rgb\",\n",
    "    class_mode=None,\n",
    "    batch_size=1,\n",
    "    shuffle=True,\n",
    "    seed=123\n",
    ")"
   ]
  },
  {
   "cell_type": "markdown",
   "metadata": {},
   "source": [
    "#### Implementation of cropped ROI images classifcation model\n",
    "\n",
    "If you already have a pretrained model, you can skip this step."
   ]
  },
  {
   "cell_type": "code",
   "execution_count": null,
   "metadata": {},
   "outputs": [],
   "source": [
    "MODEL_FILE = 'cropped_model.h5' # file to save the model\n",
    "EPOCHS = 50"
   ]
  },
  {
   "cell_type": "code",
   "execution_count": null,
   "metadata": {},
   "outputs": [],
   "source": [
    "# Load the ResNet50 model\n",
    "pretrained_model = ResNet50(\n",
    "    include_top=False,\n",
    "    weights=\"imagenet\",\n",
    "    input_shape=(IMG_SIZE, IMG_SIZE, 3),\n",
    "    pooling='max',\n",
    "    classes=2,\n",
    ")\n",
    "\n",
    "model_layers = [\n",
    "    pretrained_model,\n",
    "    layers.Dense(units=512, activation='relu', kernel_regularizer=L2(\n",
    "        0.0001), bias_regularizer=L2(0.0001)),\n",
    "    layers.Dense(units=128, activation='relu', kernel_regularizer=L2(\n",
    "        0.0001), bias_regularizer=L2(0.0001)),\n",
    "    layers.Dense(units=1, activation='sigmoid'),\n",
    "]\n",
    "\n"
   ]
  },
  {
   "cell_type": "code",
   "execution_count": null,
   "metadata": {},
   "outputs": [],
   "source": [
    "model = Sequential(layers=model_layers)"
   ]
  },
  {
   "cell_type": "code",
   "execution_count": null,
   "metadata": {},
   "outputs": [],
   "source": [
    "# compile the model\n",
    "model.compile(optimizer = Adam(learning_rate=0.001), loss='binary_crossentropy', metrics=['accuracy'])"
   ]
  },
  {
   "cell_type": "code",
   "execution_count": null,
   "metadata": {},
   "outputs": [],
   "source": [
    "# create a callback to save the model and stop training if the validation loss does not improve\n",
    "custom_callbacks = [\n",
    "    EarlyStopping(\n",
    "        monitor='val_loss',\n",
    "        mode='min',\n",
    "        patience=5,\n",
    "        verbose=1\n",
    "    ),\n",
    "    ModelCheckpoint(\n",
    "        filepath=MODEL_FILE,\n",
    "        monitor='val_loss',\n",
    "        mode='min',\n",
    "        verbose=1,\n",
    "        save_best_only=True\n",
    "    ),\n",
    "]"
   ]
  },
  {
   "cell_type": "code",
   "execution_count": null,
   "metadata": {},
   "outputs": [],
   "source": [
    "# train the model\n",
    "history = model.fit(\n",
    "    train_generator,\n",
    "    epochs=EPOCHS,\n",
    "    steps_per_epoch=len(train_generator),\n",
    "    validation_data=val_generator,\n",
    "    validation_steps=len(val_generator),\n",
    "    callbacks=custom_callbacks,\n",
    "    verbose=2\n",
    ")\n"
   ]
  },
  {
   "cell_type": "code",
   "execution_count": null,
   "metadata": {},
   "outputs": [],
   "source": [
    "# plot the training and validation accuracy and loss at each epoch using plotly\n",
    "fig = make_subplots(specs=[[{\"secondary_y\": True}]])\n",
    "fig.add_trace(go.Scatter(y=history.history['accuracy'], name='train accuracy'), secondary_y=True)\n",
    "fig.add_trace(go.Scatter(y=history.history['val_accuracy'], name='val accuracy'), secondary_y=True)\n",
    "fig.add_trace(go.Scatter(y=history.history['val_loss'], name='val loss'))\n",
    "fig.add_trace(go.Scatter(y=history.history['loss'], name='loss'), )\n",
    "fig.update_layout(title='Accuracy and Loss', xaxis_title='Epoch', yaxis_title='Accuracy/Loss')\n",
    "fig.update_layout(yaxis_range=[0,2])\n",
    "fig.show()"
   ]
  },
  {
   "cell_type": "markdown",
   "metadata": {},
   "source": [
    "#### Testing"
   ]
  },
  {
   "cell_type": "code",
   "execution_count": null,
   "metadata": {},
   "outputs": [],
   "source": [
    "# load model from file\n",
    "import tensorflow as tf\n",
    "SAVED_MODEL_FILE = 'cropped_model.h5'\n",
    "model = tf.keras.models.load_model(SAVED_MODEL_FILE)"
   ]
  },
  {
   "cell_type": "code",
   "execution_count": null,
   "metadata": {},
   "outputs": [],
   "source": [
    "# predict on test data\n",
    "preds = model.predict(test_generator, verbose=1)"
   ]
  },
  {
   "cell_type": "code",
   "execution_count": null,
   "metadata": {},
   "outputs": [],
   "source": [
    "# create a confusion matrix\n",
    "matrix = confusion_matrix(test_generator.classes, preds.round())\n",
    "sns.heatmap(matrix, annot=True, fmt='d', cmap='Blues')\n",
    "plt.xlabel('Predicted')\n",
    "plt.ylabel('Actual')\n",
    "plt.savefig('confusion_matrix_test.png')\n"
   ]
  },
  {
   "cell_type": "code",
   "execution_count": null,
   "metadata": {},
   "outputs": [],
   "source": [
    "# calculate the accuracy, recall, precision and f1 score\n",
    "from sklearn.metrics import accuracy_score, recall_score, precision_score, f1_score\n",
    "\n",
    "print('Accuracy: ', accuracy_score(test_generator.classes, preds.round()))\n",
    "print('Recall: ', recall_score(test_generator.classes, preds.round()))\n",
    "print('Precision: ', precision_score(test_generator.classes, preds.round()))\n",
    "print('F1 Score: ', f1_score(test_generator.classes, preds.round()))\n"
   ]
  },
  {
   "cell_type": "code",
   "execution_count": null,
   "metadata": {},
   "outputs": [],
   "source": [
    "# print number of true positives, true negatives, false positives and false negatives\n",
    "tn, fp, fn, tp = confusion_matrix(test_generator.classes, preds.round()).ravel()\n",
    "print('True Positives: ', tp)\n",
    "print('True Negatives: ', tn)\n",
    "print('False Positives: ', fp)\n",
    "print('False Negatives: ', fn)\n"
   ]
  },
  {
   "cell_type": "code",
   "execution_count": null,
   "metadata": {},
   "outputs": [],
   "source": [
    "# calculate the accuracy, recall, precision and f1 score for each class\n",
    "from sklearn.metrics import classification_report\n",
    "\n",
    "res = classification_report(test_generator.classes, preds.round(), target_names=['BENIGN', 'MALIGNANT'], output_dict=True)"
   ]
  },
  {
   "cell_type": "code",
   "execution_count": null,
   "metadata": {},
   "outputs": [],
   "source": [
    "df = pd.DataFrame(res).T\n",
    "df.drop(columns='support', inplace=True)\n",
    "df.drop(['macro avg', 'weighted avg'], inplace=True)\n",
    "df.head()"
   ]
  },
  {
   "cell_type": "code",
   "execution_count": null,
   "metadata": {},
   "outputs": [],
   "source": [
    "# create a roc curve\n",
    "from sklearn.metrics import roc_curve, auc\n",
    "\n",
    "fpr, tpr, thresholds = roc_curve(test_generator.classes, preds)\n",
    "roc_auc = auc(fpr, tpr)\n",
    "\n",
    "plt.figure()\n",
    "lw = 2\n",
    "plt.plot(fpr, tpr, color='darkorange',\n",
    "            lw=lw, label='ROC curve (area = %0.2f)' % roc_auc)\n",
    "plt.plot([0, 1], [0, 1], color='navy', lw=lw, linestyle='--')\n",
    "plt.xlim([0.0, 1.0])\n",
    "plt.ylim([0.0, 1.05])\n",
    "plt.xlabel('False Positive Rate')\n",
    "plt.ylabel('True Positive Rate')\n",
    "plt.title('Receiver operating characteristic')\n",
    "plt.legend(loc=\"lower right\")\n",
    "plt.savefig('roc_curve.png')\n"
   ]
  }
 ],
 "metadata": {
  "kernelspec": {
   "display_name": "Python 3.9.5 64-bit",
   "language": "python",
   "name": "python3"
  },
  "language_info": {
   "codemirror_mode": {
    "name": "ipython",
    "version": 3
   },
   "file_extension": ".py",
   "mimetype": "text/x-python",
   "name": "python",
   "nbconvert_exporter": "python",
   "pygments_lexer": "ipython3",
   "version": "3.9.5"
  },
  "orig_nbformat": 4,
  "vscode": {
   "interpreter": {
    "hash": "2edc54d59d20b72287ec86c95fb8f58850e8423252e2f99223b86c52647aa6cb"
   }
  }
 },
 "nbformat": 4,
 "nbformat_minor": 2
}
