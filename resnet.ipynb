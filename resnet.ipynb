{
 "cells": [
  {
   "cell_type": "markdown",
   "metadata": {},
   "source": [
    "# Resnet"
   ]
  },
  {
   "cell_type": "markdown",
   "metadata": {},
   "source": [
    "### Imports"
   ]
  },
  {
   "cell_type": "code",
   "execution_count": 50,
   "metadata": {},
   "outputs": [],
   "source": [
    "import pandas as pd\n",
    "import cv2 as cv\n",
    "import numpy as np\n",
    "import matplotlib.pyplot as plt\n",
    "from tensorflow.keras.applications.resnet import ResNet50\n",
    "from tensorflow.keras.preprocessing.image import ImageDataGenerator\n",
    "from tensorflow.keras import Sequential\n",
    "from tensorflow.keras import layers\n",
    "from tensorflow.keras.regularizers import L2\n",
    "from tensorflow.keras.callbacks import EarlyStopping, ModelCheckpoint\n",
    "from tensorflow.keras.optimizers import Adam\n",
    "import os\n"
   ]
  },
  {
   "cell_type": "markdown",
   "metadata": {},
   "source": [
    "###  Preprocessing\n",
    "\n",
    "The images have previously been loaded into BENIGN and MALIGNANT folders. \n",
    "First we must resize them to 256x256 and then convert them to numpy arrays.\n",
    "We will now load them into a dataframe and split them into training and validation sets."
   ]
  },
  {
   "cell_type": "code",
   "execution_count": 48,
   "metadata": {},
   "outputs": [
    {
     "name": "stderr",
     "output_type": "stream",
     "text": [
      "Copying files: 1318 files [00:17, 74.28 files/s]\n"
     ]
    }
   ],
   "source": [
    "# using splitfolder to split training data into train and validation\n",
    "import splitfolders\n",
    "\n",
    "# split data into train and validation\n",
    "splitfolders.ratio('data/train', output=\"data_split\", seed=1337, ratio=(.8, .2))"
   ]
  },
  {
   "cell_type": "code",
   "execution_count": 61,
   "metadata": {},
   "outputs": [],
   "source": [
    "IMG_SIZE = 256"
   ]
  },
  {
   "cell_type": "code",
   "execution_count": 62,
   "metadata": {},
   "outputs": [
    {
     "name": "stdout",
     "output_type": "stream",
     "text": [
      "Found 1053 images belonging to 2 classes.\n"
     ]
    }
   ],
   "source": [
    "# Loads training data\n",
    "train_datagen = ImageDataGenerator(\n",
    "    rescale=1/255,  # rescale the tensor values to [0,1]\n",
    "    rotation_range=10,\n",
    "    width_shift_range=0.1,\n",
    "    height_shift_range=0.1,\n",
    "    shear_range=0.2,\n",
    "    zoom_range=0.1,\n",
    "    horizontal_flip=True,\n",
    "    fill_mode='nearest'\n",
    ")\n",
    "train_generator = train_datagen.flow_from_directory(\n",
    "    directory='data_split/train',\n",
    "    target_size=(IMG_SIZE, IMG_SIZE),\n",
    "    color_mode=\"rgb\",\n",
    "    class_mode=\"binary\",\n",
    "    batch_size=32,\n",
    "    shuffle=True,\n",
    ")"
   ]
  },
  {
   "cell_type": "code",
   "execution_count": 63,
   "metadata": {},
   "outputs": [
    {
     "data": {
      "text/plain": [
       "{'BENIGN': 0, 'MALIGNANT': 1}"
      ]
     },
     "execution_count": 63,
     "metadata": {},
     "output_type": "execute_result"
    }
   ],
   "source": [
    "train_generator.class_indices"
   ]
  },
  {
   "cell_type": "code",
   "execution_count": 16,
   "metadata": {},
   "outputs": [
    {
     "data": {
      "text/plain": [
       "(256, 256, 3)"
      ]
     },
     "execution_count": 16,
     "metadata": {},
     "output_type": "execute_result"
    }
   ],
   "source": [
    "cv.imread('data/train/MALIGNANT/2.jpg').shape\n"
   ]
  },
  {
   "cell_type": "code",
   "execution_count": 64,
   "metadata": {},
   "outputs": [
    {
     "name": "stdout",
     "output_type": "stream",
     "text": [
      "Found 265 images belonging to 2 classes.\n"
     ]
    }
   ],
   "source": [
    "val_test_datagen = ImageDataGenerator(\n",
    "    rescale=1/255  # rescale the tensor values to [0,1]\n",
    ")\n",
    "val_generator = val_test_datagen.flow_from_directory(\n",
    "    directory='data_split/val',\n",
    "    target_size=(IMG_SIZE, IMG_SIZE),\n",
    "    color_mode=\"rgb\",\n",
    "    class_mode=\"binary\",\n",
    "    batch_size=32,\n",
    "    shuffle=True\n",
    ")"
   ]
  },
  {
   "cell_type": "markdown",
   "metadata": {},
   "source": [
    "#### Implemenmtation of Resnet"
   ]
  },
  {
   "cell_type": "code",
   "execution_count": 55,
   "metadata": {},
   "outputs": [],
   "source": [
    "model_file = 'data/resnet_model.h5'\n",
    "data_dir = 'data'"
   ]
  },
  {
   "cell_type": "code",
   "execution_count": 65,
   "metadata": {},
   "outputs": [],
   "source": [
    "pretrained_model = ResNet50(\n",
    "    include_top=False,\n",
    "    weights=\"imagenet\",\n",
    "    input_shape=(IMG_SIZE, IMG_SIZE, 3),\n",
    "    pooling='max',\n",
    "    classes=2,\n",
    ")\n",
    "\n",
    "model_layers = [\n",
    "    pretrained_model,\n",
    "    layers.Dense(units=512, activation='relu', kernel_regularizer=L2(\n",
    "        0.0001), bias_regularizer=L2(0.0001)),\n",
    "    layers.Dropout(0.5),\n",
    "    layers.Dense(units=128, activation='relu', kernel_regularizer=L2(\n",
    "        0.0001), bias_regularizer=L2(0.0001)),\n",
    "    layers.Dense(units=1, activation='sigmoid'),\n",
    "]\n",
    "\n"
   ]
  },
  {
   "cell_type": "code",
   "execution_count": 66,
   "metadata": {},
   "outputs": [],
   "source": [
    "model = Sequential(layers=model_layers)"
   ]
  },
  {
   "cell_type": "code",
   "execution_count": 67,
   "metadata": {},
   "outputs": [],
   "source": [
    "custom_callbacks = [\n",
    "    EarlyStopping(\n",
    "        monitor='val_loss',\n",
    "        mode='min',\n",
    "        patience=5,\n",
    "        verbose=1\n",
    "    ),\n",
    "    ModelCheckpoint(\n",
    "        filepath=model_file,\n",
    "        monitor='val_loss',\n",
    "        mode='min',\n",
    "        verbose=1,\n",
    "        save_best_only=True\n",
    "    ),\n",
    "]"
   ]
  },
  {
   "cell_type": "code",
   "execution_count": 68,
   "metadata": {},
   "outputs": [],
   "source": [
    "model.compile(optimizer = Adam(learning_rate=0.0001), loss='binary_crossentropy', metrics=['accuracy'])"
   ]
  },
  {
   "cell_type": "code",
   "execution_count": 69,
   "metadata": {},
   "outputs": [
    {
     "name": "stdout",
     "output_type": "stream",
     "text": [
      "Epoch 1/5\n",
      "33/33 [==============================] - ETA: 0s - loss: 2.2848 - accuracy: 0.5413 \n",
      "Epoch 00001: val_loss improved from inf to 1.66169, saving model to data\\resnet_model.h5\n"
     ]
    },
    {
     "name": "stderr",
     "output_type": "stream",
     "text": [
      "C:\\Users\\Vegard\\AppData\\Roaming\\Python\\Python39\\site-packages\\keras\\engine\\functional.py:1410: CustomMaskWarning: Custom mask layers require a config and must override get_config. When loading, the custom mask layer must be passed to the custom_objects argument.\n",
      "  layer_config = serialize_layer_fn(layer)\n"
     ]
    },
    {
     "name": "stdout",
     "output_type": "stream",
     "text": [
      "33/33 [==============================] - 734s 22s/step - loss: 2.2848 - accuracy: 0.5413 - val_loss: 1.6617 - val_accuracy: 0.5170\n",
      "Epoch 2/5\n",
      "33/33 [==============================] - ETA: 0s - loss: 1.4272 - accuracy: 0.5603 \n",
      "Epoch 00002: val_loss improved from 1.66169 to 1.14036, saving model to data\\resnet_model.h5\n",
      "33/33 [==============================] - 681s 21s/step - loss: 1.4272 - accuracy: 0.5603 - val_loss: 1.1404 - val_accuracy: 0.4830\n",
      "Epoch 3/5\n",
      "33/33 [==============================] - ETA: 0s - loss: 1.1479 - accuracy: 0.5878 \n",
      "Epoch 00003: val_loss improved from 1.14036 to 0.79774, saving model to data\\resnet_model.h5\n",
      "33/33 [==============================] - 635s 19s/step - loss: 1.1479 - accuracy: 0.5878 - val_loss: 0.7977 - val_accuracy: 0.5057\n",
      "Epoch 4/5\n",
      "33/33 [==============================] - ETA: 0s - loss: 1.0714 - accuracy: 0.5670 \n",
      "Epoch 00004: val_loss did not improve from 0.79774\n",
      "33/33 [==============================] - 598s 18s/step - loss: 1.0714 - accuracy: 0.5670 - val_loss: 1.3031 - val_accuracy: 0.5170\n",
      "Epoch 5/5\n",
      "33/33 [==============================] - ETA: 0s - loss: 0.9695 - accuracy: 0.5869 \n",
      "Epoch 00005: val_loss did not improve from 0.79774\n",
      "33/33 [==============================] - 597s 18s/step - loss: 0.9695 - accuracy: 0.5869 - val_loss: 0.9719 - val_accuracy: 0.5170\n"
     ]
    }
   ],
   "source": [
    "history = model.fit(\n",
    "    train_generator,\n",
    "    epochs=5,\n",
    "    steps_per_epoch=len(train_generator),\n",
    "    validation_data=val_generator,\n",
    "    validation_steps=len(val_generator),\n",
    "    callbacks=custom_callbacks,\n",
    "    verbose=2\n",
    "    # use_multiprocessing=True,\n",
    ")\n"
   ]
  },
  {
   "cell_type": "code",
   "execution_count": 70,
   "metadata": {},
   "outputs": [
    {
     "data": {
      "image/png": "[encoded data removed]",
      "text/plain": [
       "<Figure size 432x288 with 1 Axes>"
      ]
     },
     "metadata": {},
     "output_type": "display_data"
    }
   ],
   "source": [
    "# plot the training loss and accuracy\n",
    "plt.style.use(\"ggplot\")\n",
    "plt.figure()\n",
    "N = 5\n",
    "plt.plot(np.arange(0, N), history.history[\"loss\"], label=\"train_loss\")\n",
    "plt.plot(np.arange(0, N), history.history[\"val_loss\"], label=\"val_loss\")\n",
    "plt.plot(np.arange(0, N), history.history[\"accuracy\"], label=\"train_acc\")\n",
    "plt.plot(np.arange(0, N), history.history[\"val_accuracy\"], label=\"val_acc\")\n",
    "plt.title(\"Training Loss and Accuracy on Dataset\")\n",
    "plt.xlabel(\"Epoch #\")\n",
    "plt.ylabel(\"Loss/Accuracy\")\n",
    "plt.legend(loc=\"lower left\")\n",
    "plt.savefig('data/plot.png')\n"
   ]
  },
  {
   "cell_type": "code",
   "execution_count": null,
   "metadata": {},
   "outputs": [],
   "source": [
    "# create confusion matrix\n",
    "from sklearn.metrics import confusion_matrix\n",
    "import seaborn as sns\n",
    "\n",
    "matrix = confusion_matrix(val_generator.classes, model.predict(val_generator).round())\n",
    "sns.heatmap(matrix, annot=True, fmt='d', cmap='Blues')\n",
    "plt.xlabel('Predicted')\n",
    "plt.ylabel('Actual')\n",
    "plt.savefig('data/confusion_matrix.png')\n"
   ]
  },
  {
   "cell_type": "code",
   "execution_count": null,
   "metadata": {},
   "outputs": [],
   "source": []
  }
 ],
 "metadata": {
  "kernelspec": {
   "display_name": "Python 3.9.5 64-bit",
   "language": "python",
   "name": "python3"
  },
  "language_info": {
   "codemirror_mode": {
    "name": "ipython",
    "version": 3
   },
   "file_extension": ".py",
   "mimetype": "text/x-python",
   "name": "python",
   "nbconvert_exporter": "python",
   "pygments_lexer": "ipython3",
   "version": "3.9.5"
  },
  "orig_nbformat": 4,
  "vscode": {
   "interpreter": {
    "hash": "2edc54d59d20b72287ec86c95fb8f58850e8423252e2f99223b86c52647aa6cb"
   }
  }
 },
 "nbformat": 4,
 "nbformat_minor": 2
}
