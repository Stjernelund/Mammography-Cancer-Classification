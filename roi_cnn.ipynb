{
 "cells": [
  {
   "cell_type": "markdown",
   "metadata": {},
   "source": [
    "# CNN Model for region-of-interest (ROI)\n",
    "\n"
   ]
  },
  {
   "cell_type": "markdown",
   "metadata": {},
   "source": [
    "## Preprocessing"
   ]
  },
  {
   "cell_type": "markdown",
   "metadata": {},
   "source": [
    "### Imports"
   ]
  },
  {
   "cell_type": "code",
   "execution_count": null,
   "metadata": {},
   "outputs": [],
   "source": [
    "import pandas as pd\n",
    "from pathlib import Path\n",
    "import shutil"
   ]
  },
  {
   "cell_type": "code",
   "execution_count": null,
   "metadata": {},
   "outputs": [],
   "source": [
    "meta_dir = \"./roi_data/metadata\"\n",
    "image_dir = \"./roi_data/images\"\n",
    "train_path = \"./roi_data/roi_images/train\"\n",
    "test_path = \"./roi_data/roi_images/test\""
   ]
  },
  {
   "cell_type": "code",
   "execution_count": null,
   "metadata": {},
   "outputs": [],
   "source": [
    "Path(train_path + \"/benign\").mkdir(parents=True, exist_ok=True)\n",
    "Path(train_path + \"/malignant\").mkdir(parents=True, exist_ok=True)\n",
    "Path(test_path + \"/benign\").mkdir(parents=True, exist_ok=True)\n",
    "Path(test_path + \"/malignant\").mkdir(parents=True, exist_ok=True)"
   ]
  },
  {
   "cell_type": "code",
   "execution_count": null,
   "metadata": {},
   "outputs": [],
   "source": [
    "dicom_data = pd.read_csv(meta_dir + '/dicom_info.csv')\n",
    "train_csv = pd.read_csv(meta_dir + '/mass_case_description_train_set.csv')\n",
    "test_csv = pd.read_csv(meta_dir + '/mass_case_description_test_set.csv')\n",
    "train_csv = train_csv[[\"patient_id\", \"pathology\", \"ROI mask file path\"]]\n",
    "test_csv = test_csv[[\"patient_id\", \"pathology\", \"ROI mask file path\"]]"
   ]
  },
  {
   "cell_type": "code",
   "execution_count": null,
   "metadata": {},
   "outputs": [],
   "source": [
    "dicom_data = dicom_data[[\"PatientID\", \"SeriesDescription\", \"image_path\"]]"
   ]
  },
  {
   "cell_type": "code",
   "execution_count": null,
   "metadata": {},
   "outputs": [],
   "source": [
    "images = dicom_data[dicom_data.SeriesDescription == 'ROI mask images']\n",
    "train_images = images[images.PatientID.isin(train_csv['ROI mask file path'].apply(lambda x: x.split('/')[0]))]\n",
    "test_images = images[images.PatientID.isin(test_csv['ROI mask file path'].apply(lambda x: x.split('/')[0]))]\n"
   ]
  },
  {
   "cell_type": "code",
   "execution_count": null,
   "metadata": {},
   "outputs": [],
   "source": [
    "train_images = train_images.sort_values(by=['PatientID']).reset_index(drop=True)\n",
    "# Concatenate train_images and train_csv\n",
    "train_images = pd.concat([train_images, train_csv], axis=1)\n",
    "train_images.drop([\"patient_id\", \"SeriesDescription\", \"ROI mask file path\"], axis=1, inplace=True)\n",
    "\n",
    "test_images = test_images.sort_values(by=['PatientID']).reset_index(drop=True)\n",
    "# Concatenate test_images and test_csv\n",
    "test_images = pd.concat([test_images, test_csv], axis=1)\n",
    "test_images.drop([\"patient_id\", \"SeriesDescription\", \"ROI mask file path\"], axis=1, inplace=True)"
   ]
  },
  {
   "cell_type": "code",
   "execution_count": null,
   "metadata": {},
   "outputs": [],
   "source": [
    "train_images_paths = train_images.image_path.apply(lambda x: x.replace('CBIS-DDSM/jpeg', ''))\n",
    "test_images_paths = test_images.image_path.apply(lambda x: x.replace('CBIS-DDSM/jpeg', ''))\n",
    "train_labels = train_images.pathology.apply(lambda x: x.lower())\n",
    "test_labels = test_images.pathology.apply(lambda x: x.lower())"
   ]
  },
  {
   "cell_type": "code",
   "execution_count": null,
   "metadata": {},
   "outputs": [],
   "source": [
    "def copy_images(curr_paths, dest_paths, curr_labels):\n",
    "    for i, path in enumerate(curr_paths):\n",
    "        dir_path = path.split(\"/\")[1]\n",
    "        label = curr_labels[i]\n",
    "        if label == \"benign_without_callback\":\n",
    "            label = \"benign\"\n",
    "        new_path = dest_paths + \"/\" + label\n",
    "        Path(new_path + \"/\" + dir_path).mkdir(parents=True, exist_ok=True)\n",
    "        shutil.copy(image_dir + path, new_path + path)\n"
   ]
  },
  {
   "cell_type": "code",
   "execution_count": null,
   "metadata": {},
   "outputs": [],
   "source": [
    "copy_images(train_images_paths, train_path, train_labels)\n",
    "copy_images(test_images_paths, test_path, test_labels)"
   ]
  },
  {
   "cell_type": "markdown",
   "metadata": {},
   "source": [
    "# Model\n",
    "\n",
    "## Image loading\n",
    "\n",
    "### Imports"
   ]
  },
  {
   "cell_type": "code",
   "execution_count": null,
   "metadata": {},
   "outputs": [],
   "source": [
    "import torch\n",
    "import torchvision\n",
    "import torchvision.transforms as transforms"
   ]
  },
  {
   "cell_type": "markdown",
   "metadata": {},
   "source": [
    "### Parameters"
   ]
  },
  {
   "cell_type": "code",
   "execution_count": null,
   "metadata": {},
   "outputs": [],
   "source": [
    "batch_size = 4\n",
    "train_path = \"./roi_data/roi_images/train\"\n",
    "test_path = \"./roi_data/roi_images/test\""
   ]
  },
  {
   "cell_type": "markdown",
   "metadata": {},
   "source": [
    "### Load and transform the images\n"
   ]
  },
  {
   "cell_type": "code",
   "execution_count": null,
   "metadata": {},
   "outputs": [],
   "source": [
    "transformer = transforms.Compose([transforms.Resize((444, 222)), transforms.ToTensor(), transforms.Grayscale(1)])"
   ]
  },
  {
   "cell_type": "code",
   "execution_count": null,
   "metadata": {},
   "outputs": [],
   "source": [
    "train_imagefolder = torchvision.datasets.ImageFolder(root=train_path, transform=transformer)\n",
    "train_loader = torch.utils.data.DataLoader(train_imagefolder, batch_size=batch_size, shuffle=True, num_workers=0)"
   ]
  },
  {
   "cell_type": "code",
   "execution_count": null,
   "metadata": {},
   "outputs": [],
   "source": [
    "test_imagefolder = torchvision.datasets.ImageFolder(root=test_path, transform=transformer)\n",
    "test_loader = torch.utils.data.DataLoader(test_imagefolder, batch_size=batch_size, shuffle=False, num_workers=0)"
   ]
  },
  {
   "cell_type": "markdown",
   "metadata": {},
   "source": [
    "## Neural network"
   ]
  },
  {
   "cell_type": "markdown",
   "metadata": {},
   "source": [
    "### Imports"
   ]
  },
  {
   "cell_type": "code",
   "execution_count": null,
   "metadata": {},
   "outputs": [],
   "source": [
    "import torch.nn as nn\n",
    "import torch.nn.functional as functional\n",
    "import torch.optim as optim"
   ]
  },
  {
   "cell_type": "code",
   "execution_count": null,
   "metadata": {},
   "outputs": [],
   "source": [
    "class Network(nn.Module):\n",
    "    def __init__(self):\n",
    "        super().__init__()\n",
    "        self.conv1 = nn.Conv2d(1, 6, 5)\n",
    "        self.pool = nn.MaxPool2d(2, 2)\n",
    "        self.conv2 = nn.Conv2d(6, 16, 5)\n",
    "        self.fc1 = nn.Linear(16 * 53 * 26, 120)\n",
    "        self.fc2 = nn.Linear(120, 84)\n",
    "        self.fc3 = nn.Linear(84, 2)\n",
    "    \n",
    "    def forward(self, x):\n",
    "        x = self.pool(functional.relu(self.conv1(x)))\n",
    "        x = self.pool(functional.relu(self.conv2(x)))\n",
    "        x = torch.flatten(x, 1)\n",
    "        x = functional.relu(self.fc1(x))\n",
    "        x = functional.relu(self.fc2(x))\n",
    "        x = self.fc3(x)\n",
    "        return x"
   ]
  },
  {
   "cell_type": "code",
   "execution_count": null,
   "metadata": {},
   "outputs": [],
   "source": [
    "net = Network()"
   ]
  },
  {
   "cell_type": "code",
   "execution_count": null,
   "metadata": {},
   "outputs": [],
   "source": [
    "criterion = nn.CrossEntropyLoss()\n",
    "optimiser = optim.SGD(net.parameters(), lr=0.001, momentum=0.9)"
   ]
  },
  {
   "cell_type": "code",
   "execution_count": null,
   "metadata": {},
   "outputs": [],
   "source": [
    "for epoch in range(2):\n",
    "    running_loss = 0.0\n",
    "    for i, data in enumerate(train_loader, 0):\n",
    "        inputs, labels = data\n",
    "\n",
    "        optimiser.zero_grad()\n",
    "\n",
    "        outputs = net(inputs)\n",
    "        loss = criterion(outputs, labels)\n",
    "        loss.backward()\n",
    "        optimiser.step()\n",
    "\n",
    "        running_loss += loss.item()\n",
    "        if i % 2000 == 1999:    # print every 2000 mini-batches\n",
    "            print(f'[{epoch + 1}, {i + 1:5d}] loss: {running_loss / 2000:.3f}')\n",
    "            running_loss = 0.0"
   ]
  }
 ],
 "metadata": {
  "kernelspec": {
   "display_name": "Python 3.10.6 ('biomedical_project')",
   "language": "python",
   "name": "python3"
  },
  "language_info": {
   "codemirror_mode": {
    "name": "ipython",
    "version": 3
   },
   "file_extension": ".py",
   "mimetype": "text/x-python",
   "name": "python",
   "nbconvert_exporter": "python",
   "pygments_lexer": "ipython3",
   "version": "3.10.6"
  },
  "orig_nbformat": 4,
  "vscode": {
   "interpreter": {
    "hash": "724b3fad65632c56f8fd148a0c3766943a36e980f26728169f67a09de8a01eca"
   }
  }
 },
 "nbformat": 4,
 "nbformat_minor": 2
}
